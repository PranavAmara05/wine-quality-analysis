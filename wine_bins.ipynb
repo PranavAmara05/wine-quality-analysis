{
  "cells": [
    {
      "cell_type": "code",
      "execution_count": 1,
      "metadata": {
        "id": "CxtGonFwAQNV"
      },
      "outputs": [],
      "source": [
        "import numpy as np\n",
        "import pandas as pd\n",
        "from sklearn.model_selection import train_test_split\n",
        "from sklearn.preprocessing import StandardScaler\n",
        "from sklearn.metrics import classification_report, confusion_matrix, ConfusionMatrixDisplay\n",
        "from imblearn.over_sampling import SMOTE\n",
        "from xgboost import XGBClassifier\n",
        "from sklearn.ensemble import RandomForestClassifier, StackingClassifier\n",
        "from sklearn.linear_model import LogisticRegression"
      ]
    },
    {
      "cell_type": "code",
      "execution_count": 2,
      "metadata": {
        "id": "EC3wgWRBAb1o"
      },
      "outputs": [],
      "source": [
        "# loading the dataset\n",
        "data = pd.read_csv(\"C:\\\\Users\\\\prana\\\\OneDrive\\\\Desktop\\\\SEM-2\\\\IMI_PROJ\\\\winequality-white.csv\")\n",
        "# setting the data to low, medium and high based on their quality\n",
        "# 0 for low quality, 1 for medium quality and 2 for high quality\n",
        "bins = [3, 5, 7, 10]\n",
        "labels = [0, 1, 2]\n",
        "# 3 to 5 quality are considered as 0 and similarly the rremaining\n",
        "data['quality'] = pd.cut(data['quality'], bins=bins, labels=labels, include_lowest=True)"
      ]
    },
    {
      "cell_type": "code",
      "execution_count": 3,
      "metadata": {
        "id": "HWOADPHhAfvN"
      },
      "outputs": [],
      "source": [
        "# Seperating the data from the dataset into features and target\n",
        "X = data.drop('quality', axis=1)\n",
        "y = data['quality']\n",
        "# Balancing the data using smote as the dataset is imbalanced\n",
        "smote = SMOTE(random_state=42)\n",
        "X_smote, y_smote = smote.fit_resample(X, y)\n",
        "# Splitting the dataset into train and test\n",
        "X_train, X_test, y_train, y_test = train_test_split(X_smote, y_smote, test_size=0.2, random_state=42)\n",
        "# Standardizing the data\n",
        "scaler = StandardScaler()\n",
        "X_train_scaled = scaler.fit_transform(X_train)\n",
        "X_test_scaled = scaler.transform(X_test)"
      ]
    },
    {
      "cell_type": "code",
      "execution_count": 8,
      "metadata": {
        "id": "G0DbX2cFAolv"
      },
      "outputs": [],
      "source": [
        "# models rf and xg boost\n",
        "rf_model = RandomForestClassifier(n_estimators=1000, max_depth=25, random_state=42)\n",
        "xgb_model = XGBClassifier(n_estimators=1000, max_depth=10, objective='softmax', num_class=3, random_state=42)\n",
        "# defining th stacking classifier\n",
        "stacked_model = StackingClassifier(estimators=[('rf', rf_model),('xgb', xgb_model)],final_estimator=LogisticRegression(max_iter=1000, random_state=42),cv=2)\n",
        "# training\n",
        "stacked_model.fit(X_train_scaled, y_train)\n",
        "# prediction\n",
        "stacked_predictions = stacked_model.predict(X_test_scaled)\n"
      ]
    },
    {
      "cell_type": "code",
      "execution_count": 10,
      "metadata": {
        "colab": {
          "base_uri": "https://localhost:8080/"
        },
        "id": "A4LU8Kl0AxxX",
        "outputId": "09b3f90b-496a-4ae2-a5bf-a63afd489677"
      },
      "outputs": [
        {
          "name": "stdout",
          "output_type": "stream",
          "text": [
            "-------------------------------------------------------\n",
            "Classification Report \n",
            "              precision    recall  f1-score   support\n",
            "\n",
            "           0       0.88      0.84      0.86       630\n",
            "           1       0.84      0.87      0.85       612\n",
            "           2       0.98      0.99      0.99       605\n",
            "\n",
            "    accuracy                           0.90      1847\n",
            "   macro avg       0.90      0.90      0.90      1847\n",
            "weighted avg       0.90      0.90      0.90      1847\n",
            "\n",
            "-------------------------------------------------------\n",
            " Confusion Matrix \n",
            "[[530  99   1]\n",
            " [ 69 530  13]\n",
            " [  0   4 601]]\n",
            "-----------------------------------------\n",
            "Normalized Confusion Matrix \n",
            "[[0.84126984 0.15714286 0.0015873 ]\n",
            " [0.1127451  0.86601307 0.02124183]\n",
            " [0.         0.00661157 0.99338843]]\n",
            "-----------------------------------------\n"
          ]
        },
        {
          "ename": "",
          "evalue": "",
          "output_type": "error",
          "traceback": [
            "\u001b[1;31mThe Kernel crashed while executing code in the current cell or a previous cell. \n",
            "\u001b[1;31mPlease review the code in the cell(s) to identify a possible cause of the failure. \n",
            "\u001b[1;31mClick <a href='https://aka.ms/vscodeJupyterKernelCrash'>here</a> for more info. \n",
            "\u001b[1;31mView Jupyter <a href='command:jupyter.viewOutput'>log</a> for further details."
          ]
        }
      ],
      "source": [
        "# Printing classification report,confusion matrix and normalized confusion matrix\n",
        "print(\"-------------------------------------------------------\")\n",
        "print(\"Classification Report \")\n",
        "print(classification_report(y_test, stacked_predictions))\n",
        "print(\"-------------------------------------------------------\")\n",
        "print(\" Confusion Matrix \")\n",
        "cm = confusion_matrix(y_test, stacked_predictions)\n",
        "print(cm)\n",
        "print(\"-----------------------------------------\")\n",
        "print(\"Normalized Confusion Matrix \")\n",
        "cm_n = confusion_matrix(y_test, stacked_predictions, normalize='true')\n",
        "print(cm_n)\n",
        "print(\"-----------------------------------------\")"
      ]
    }
  ],
  "metadata": {
    "colab": {
      "provenance": []
    },
    "kernelspec": {
      "display_name": "Python 3",
      "name": "python3"
    },
    "language_info": {
      "codemirror_mode": {
        "name": "ipython",
        "version": 3
      },
      "file_extension": ".py",
      "mimetype": "text/x-python",
      "name": "python",
      "nbconvert_exporter": "python",
      "pygments_lexer": "ipython3",
      "version": "3.11.3"
    }
  },
  "nbformat": 4,
  "nbformat_minor": 0
}
